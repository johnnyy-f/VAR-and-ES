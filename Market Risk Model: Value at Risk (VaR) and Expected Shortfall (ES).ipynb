{
 "cells": [
  {
   "cell_type": "code",
   "execution_count": 8,
   "metadata": {},
   "outputs": [],
   "source": [
    "import yfinance as yf\n",
    "import pandas as pandas\n",
    "import numpy as np"
   ]
  },
  {
   "cell_type": "code",
   "execution_count": 7,
   "metadata": {},
   "outputs": [
    {
     "name": "stdout",
     "output_type": "stream",
     "text": [
      "[*********************100%%**********************]  5 of 5 completed\n"
     ]
    },
    {
     "data": {
      "text/html": [
       "<div>\n",
       "<style scoped>\n",
       "    .dataframe tbody tr th:only-of-type {\n",
       "        vertical-align: middle;\n",
       "    }\n",
       "\n",
       "    .dataframe tbody tr th {\n",
       "        vertical-align: top;\n",
       "    }\n",
       "\n",
       "    .dataframe thead th {\n",
       "        text-align: right;\n",
       "    }\n",
       "</style>\n",
       "<table border=\"1\" class=\"dataframe\">\n",
       "  <thead>\n",
       "    <tr style=\"text-align: right;\">\n",
       "      <th></th>\n",
       "      <th>BARC.L</th>\n",
       "      <th>GSK</th>\n",
       "      <th>JD.L</th>\n",
       "      <th>PSN</th>\n",
       "      <th>VOD</th>\n",
       "    </tr>\n",
       "    <tr>\n",
       "      <th>Date</th>\n",
       "      <th></th>\n",
       "      <th></th>\n",
       "      <th></th>\n",
       "      <th></th>\n",
       "      <th></th>\n",
       "    </tr>\n",
       "  </thead>\n",
       "  <tbody>\n",
       "    <tr>\n",
       "      <th>2023-01-04</th>\n",
       "      <td>0.027384</td>\n",
       "      <td>-0.007368</td>\n",
       "      <td>0.042791</td>\n",
       "      <td>-0.005971</td>\n",
       "      <td>0.023166</td>\n",
       "    </tr>\n",
       "    <tr>\n",
       "      <th>2023-01-05</th>\n",
       "      <td>0.025821</td>\n",
       "      <td>-0.015701</td>\n",
       "      <td>0.030684</td>\n",
       "      <td>-0.024917</td>\n",
       "      <td>-0.001887</td>\n",
       "    </tr>\n",
       "    <tr>\n",
       "      <th>2023-01-06</th>\n",
       "      <td>-0.001856</td>\n",
       "      <td>0.012761</td>\n",
       "      <td>0.022597</td>\n",
       "      <td>0.006388</td>\n",
       "      <td>0.016068</td>\n",
       "    </tr>\n",
       "    <tr>\n",
       "      <th>2023-01-09</th>\n",
       "      <td>0.003021</td>\n",
       "      <td>-0.011168</td>\n",
       "      <td>-0.013679</td>\n",
       "      <td>-0.015643</td>\n",
       "      <td>-0.000930</td>\n",
       "    </tr>\n",
       "    <tr>\n",
       "      <th>2023-01-10</th>\n",
       "      <td>-0.005909</td>\n",
       "      <td>0.006082</td>\n",
       "      <td>0.002134</td>\n",
       "      <td>0.009903</td>\n",
       "      <td>0.000000</td>\n",
       "    </tr>\n",
       "  </tbody>\n",
       "</table>\n",
       "</div>"
      ],
      "text/plain": [
       "              BARC.L       GSK      JD.L       PSN       VOD\n",
       "Date                                                        \n",
       "2023-01-04  0.027384 -0.007368  0.042791 -0.005971  0.023166\n",
       "2023-01-05  0.025821 -0.015701  0.030684 -0.024917 -0.001887\n",
       "2023-01-06 -0.001856  0.012761  0.022597  0.006388  0.016068\n",
       "2023-01-09  0.003021 -0.011168 -0.013679 -0.015643 -0.000930\n",
       "2023-01-10 -0.005909  0.006082  0.002134  0.009903  0.000000"
      ]
     },
     "execution_count": 7,
     "metadata": {},
     "output_type": "execute_result"
    }
   ],
   "source": [
    "# Stocks investigated\n",
    "tickers = ['PSN', 'GSK', 'BARC.L', 'VOD', 'JD.L']\n",
    "\n",
    "# Download the above tickers from yfinance\n",
    "data = yf.download(tickers, start = \"2023-01-01\", end = \"2024-12-15\")\n",
    "\n",
    "# preview of data\n",
    "data['Adj Close'].head()\n",
    "\n",
    "# Calculate Daily Returns\n",
    "returns = data['Adj Close'].pct_change().dropna()\n",
    "returns.head()"
   ]
  },
  {
   "cell_type": "markdown",
   "metadata": {},
   "source": [
    "# Calculating Historical VaR \n",
    "\n",
    "So the concept of historical VaR is to use the past returns in order to calculate the maximum expected loss at a certain confidence level\n",
    "\n",
    "The equation used to retrieve this is :\n",
    "\n",
    "\n",
    "Historical VaR = Percentile of Returns at (1 - Confidence Level) * 100\n"
   ]
  },
  {
   "cell_type": "code",
   "execution_count": 1,
   "metadata": {},
   "outputs": [],
   "source": [
    "def historical_var(returns, confidence_level=0.95):\n",
    "    \"\"\"\n",
    "    To calculate VaR we need:\n",
    "    - the Asset or portfolio returns\n",
    "    - the confidence level we are using for the VaR calculation\n",
    "   \n",
    "    What is returned is the VaR \n",
    "    \"\"\"\n",
    "\n",
    "    var_value = np.percentile(returns, (1-confidence_level) * 100)\n",
    "    return var_value"
   ]
  },
  {
   "cell_type": "code",
   "execution_count": 16,
   "metadata": {},
   "outputs": [
    {
     "name": "stdout",
     "output_type": "stream",
     "text": [
      "Historical VaR for PSN (95%): -1.9747%\n",
      "Historical VaR for GSK (95%): -1.9566%\n",
      "Historical VaR for BARC.L (95%): -2.6511%\n",
      "Historical VaR for VOD (95%): -2.4863%\n"
     ]
    }
   ],
   "source": [
    "# We can now test the Historical VaR for the tickers above\n",
    "\n",
    "confidence_level = 0.95\n",
    "psn_h_var = historical_var(returns['PSN'], confidence_level)\n",
    "print(f\"Historical VaR for PSN (95%): {psn_h_var:.4%}\")\n",
    "\n",
    "gsk_h_var = historical_var(returns['GSK'], confidence_level)\n",
    "print(f\"Historical VaR for GSK (95%): {gsk_h_var:.4%}\")\n",
    "\n",
    "barc_h_var = historical_var(returns['BARC.L'], confidence_level)\n",
    "print(f\"Historical VaR for BARC.L (95%): {barc_h_var:.4%}\")\n",
    "\n",
    "vod_h_var = historical_var(returns['VOD'], confidence_level)\n",
    "print(f\"Historical VaR for VOD (95%): {vod_h_var:.4%}\")"
   ]
  },
  {
   "cell_type": "markdown",
   "metadata": {},
   "source": [
    "# Calculating Parametric VaR (Variance-Covariance Method)\n",
    "\n",
    "Parametric VaR a statistical approach used to estimate the potential loss in the value of a portfolio over a given time horizon, assuming that asset returns are normally distributed. It uses the mean and the standard deviation.\n",
    "\n",
    "\n",
    "Parametric VaR = mu + sigma*Z\n",
    "Here:\n",
    "mu = mean return\n",
    "sigma = Standard deviation of returns\n",
    "Z = Inverse of normal CDF for the confidence level\n",
    "\n"
   ]
  },
  {
   "cell_type": "code",
   "execution_count": 14,
   "metadata": {},
   "outputs": [],
   "source": [
    "from scipy.stats import norm\n",
    "\n",
    "def parametric_var(returns, confidence_level = 0.95):\n",
    "    \"\"\"\n",
    "    To calculate the Parametric VaR (Variance-Covariance)\n",
    "    We assume that the returns have a normal distribution\n",
    "    \"\"\"\n",
    "\n",
    "    mean_return = np.mean(returns)\n",
    "    std_dev = np.std(returns)\n",
    "    z_score = norm.ppf(1 - confidence_level)\n",
    "\n",
    "    var_value = mean_return + z_score * std_dev\n",
    "    return var_value"
   ]
  },
  {
   "cell_type": "code",
   "execution_count": 15,
   "metadata": {},
   "outputs": [
    {
     "name": "stdout",
     "output_type": "stream",
     "text": [
      "parametric VaR for PSN (95%): -2.6299%\n",
      "parametric VaR for GSK (95%): -2.0687%\n",
      "parametric VaR for BARC.L (95%): -2.8879%\n",
      "parametric VaR for VOD (95%): -2.6769%\n"
     ]
    }
   ],
   "source": [
    "# We can now test the parametric VaR for the tickers above\n",
    "\n",
    "confidence_level = 0.95\n",
    "psn_h_var = parametric_var(returns['PSN'], confidence_level)\n",
    "print(f\"parametric VaR for PSN (95%): {psn_h_var:.4%}\")\n",
    "\n",
    "gsk_h_var = parametric_var(returns['GSK'], confidence_level)\n",
    "print(f\"parametric VaR for GSK (95%): {gsk_h_var:.4%}\")\n",
    "\n",
    "barc_h_var = parametric_var(returns['BARC.L'], confidence_level)\n",
    "print(f\"parametric VaR for BARC.L (95%): {barc_h_var:.4%}\")\n",
    "\n",
    "vod_h_var = parametric_var(returns['VOD'], confidence_level)\n",
    "print(f\"parametric VaR for VOD (95%): {vod_h_var:.4%}\")"
   ]
  },
  {
   "cell_type": "code",
   "execution_count": 17,
   "metadata": {},
   "outputs": [],
   "source": [
    "def monte_carlo_var(returns, confidence_level=0.95, simulations=100000):\n",
    "    \"\"\"\n",
    "    Creating 100,000 monte carlo simulations to gather VaR\n",
    "    \"\"\"\n",
    "    mean_return = np.mean(returns)\n",
    "    std_dev = np.std(returns)\n",
    "    \n",
    "    simulated_returns = np.random.normal(mean_return, std_dev, simulations)\n",
    "    var_value = np.percentile(simulated_returns, (1 - confidence_level) * 100)\n",
    "    return var_value"
   ]
  },
  {
   "cell_type": "code",
   "execution_count": 19,
   "metadata": {},
   "outputs": [
    {
     "name": "stdout",
     "output_type": "stream",
     "text": [
      "monte_carlo VaR for PSN (95%): -2.6373%\n",
      "monte_carlo VaR for GSK (95%): -2.0645%\n",
      "monte_carlo VaR for BARC.L (95%): -2.9011%\n",
      "monte_carlo VaR for VOD (95%): -2.6684%\n"
     ]
    }
   ],
   "source": [
    "# We can now test the expected_shortfall VaR for the tickers above\n",
    "\n",
    "confidence_level = 0.95\n",
    "psn_h_var = expected_shortfall_var(returns['PSN'], confidence_level)\n",
    "print(f\"expected_shortfall VaR for PSN (95%): {psn_h_var:.4%}\")\n",
    "\n",
    "gsk_h_var = expected_shortfall_var(returns['GSK'], confidence_level)\n",
    "print(f\"expected_shortfall VaR for GSK (95%): {gsk_h_var:.4%}\")\n",
    "\n",
    "barc_h_var = expected_shortfall_var(returns['BARC.L'], confidence_level)\n",
    "print(f\"expected_shortfall VaR for BARC.L (95%): {barc_h_var:.4%}\")\n",
    "\n",
    "vod_h_var = expected_shortfall_var(returns['VOD'], confidence_level)\n",
    "print(f\"expected_shortfall VaR for VOD (95%): {vod_h_var:.4%}\")"
   ]
  },
  {
   "cell_type": "markdown",
   "metadata": {},
   "source": [
    "Expected Shortfall also know as Conditional Value at Risk\n",
    "\n",
    "ES goes one step further than VaR, instead of giving a threshold, it gives the average loss beyond that threshold. So it paints a picture of extreme events, where the VaR limit is exceeded."
   ]
  },
  {
   "cell_type": "code",
   "execution_count": 20,
   "metadata": {},
   "outputs": [],
   "source": [
    "def expected_shortfall(returns, confidence_level=0.95):\n",
    "    \"\"\"\n",
    "    Calculates the ES AKA the CVaR\n",
    "    \"\"\"\n",
    "    var_value = historical_var(returns, confidence_level)\n",
    "    # Here returns that are less than the var_value are taken and the average is found\n",
    "    es_value = returns[returns <= var_value].mean()\n",
    "    return es_value"
   ]
  },
  {
   "cell_type": "code",
   "execution_count": 21,
   "metadata": {},
   "outputs": [
    {
     "name": "stdout",
     "output_type": "stream",
     "text": [
      "expected_shortfall VaR for PSN (95%): -2.9410%\n",
      "expected_shortfall VaR for GSK (95%): -2.7360%\n",
      "expected_shortfall VaR for BARC.L (95%): -4.1193%\n",
      "expected_shortfall VaR for VOD (95%): -3.6953%\n"
     ]
    }
   ],
   "source": [
    "# We can now test the expected_shortfall VaR for the tickers above\n",
    "\n",
    "confidence_level = 0.95\n",
    "psn_es_cvar = expected_shortfall(returns['PSN'], confidence_level)\n",
    "print(f\"expected_shortfall VaR for PSN (95%): {psn_es_cvar:.4%}\")\n",
    "\n",
    "gsk_es_cvar = expected_shortfall(returns['GSK'], confidence_level)\n",
    "print(f\"expected_shortfall VaR for GSK (95%): {gsk_es_cvar:.4%}\")\n",
    "\n",
    "barc_es_cvar = expected_shortfall(returns['BARC.L'], confidence_level)\n",
    "print(f\"expected_shortfall VaR for BARC.L (95%): {barc_es_cvar:.4%}\")\n",
    "\n",
    "vod_es_cvar = expected_shortfall(returns['VOD'], confidence_level)\n",
    "print(f\"expected_shortfall VaR for VOD (95%): {vod_es_cvar:.4%}\")"
   ]
  },
  {
   "cell_type": "code",
   "execution_count": 23,
   "metadata": {},
   "outputs": [
    {
     "data": {
      "image/png": "[encoded data removed]",
      "text/plain": [
       "<Figure size 1000x600 with 1 Axes>"
      ]
     },
     "metadata": {},
     "output_type": "display_data"
    }
   ],
   "source": [
    "import matplotlib.pyplot as plt\n",
    "\n",
    "# Plot Histogram of Returns\n",
    "plt.figure(figsize=(10, 6))\n",
    "plt.hist(returns[\"PSN\"], bins=50, edgecolor='k', alpha=0.7)\n",
    "plt.axvline(psn_h_var, color='r', linestyle='--', label=f'Historical VaR (95%): {psn_h_var:.4%}')\n",
    "plt.axvline(psn_es_cvar, color='purple', linestyle='--', label=f'Expected Shortfall (95%): {psn_es_cvar:.4%}')\n",
    "plt.title(\"Market Risk: VaR and Expected Shortfall\")\n",
    "plt.xlabel(\"Portfolio Returns\")\n",
    "plt.ylabel(\"Frequency\")\n",
    "plt.legend()\n",
    "plt.show()"
   ]
  },
  {
   "cell_type": "markdown",
   "metadata": {},
   "source": [
    "Next Steps:\n",
    "\t1.\tAdd Portfolio-Level VaR (Multi-Asset).\n",
    "\t2.\tExtend to Time-Varying Volatility Models (GARCH).\n",
    "\t3.\tImplement Backtesting Framework for validation.\n",
    "\t4.\tCreate Professional Documentation & Report.\n",
    "\n",
    "Would you like deeper dives into Portfolio VaR, Risk Factor Modeling, or Time-Series Forecasting next? 🚀"
   ]
  },
  {
   "cell_type": "markdown",
   "metadata": {},
   "source": []
  }
 ],
 "metadata": {
  "kernelspec": {
   "display_name": "base",
   "language": "python",
   "name": "python3"
  },
  "language_info": {
   "codemirror_mode": {
    "name": "ipython",
    "version": 3
   },
   "file_extension": ".py",
   "mimetype": "text/x-python",
   "name": "python",
   "nbconvert_exporter": "python",
   "pygments_lexer": "ipython3",
   "version": "3.11.5"
  }
 },
 "nbformat": 4,
 "nbformat_minor": 2
}
